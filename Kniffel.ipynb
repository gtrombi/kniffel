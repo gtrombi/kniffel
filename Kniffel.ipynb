{
 "cells": [
  {
   "cell_type": "code",
   "execution_count": 3,
   "metadata": {
    "collapsed": false
   },
   "outputs": [],
   "source": [
    "from Kniffel import *"
   ]
  },
  {
   "cell_type": "code",
   "execution_count": 4,
   "metadata": {
    "collapsed": true
   },
   "outputs": [],
   "source": [
    "giacomo = player('Jack')"
   ]
  },
  {
   "cell_type": "code",
   "execution_count": 5,
   "metadata": {
    "collapsed": true
   },
   "outputs": [],
   "source": [
    "bob = player('Bob')"
   ]
  },
  {
   "cell_type": "code",
   "execution_count": 6,
   "metadata": {
    "collapsed": false
   },
   "outputs": [],
   "source": [
    "prt = partita([giacomo,bob])"
   ]
  },
  {
   "cell_type": "code",
   "execution_count": 60,
   "metadata": {
    "collapsed": false,
    "scrolled": true
   },
   "outputs": [
    {
     "name": "stdout",
     "output_type": "stream",
     "text": [
      "132078\n"
     ]
    }
   ],
   "source": [
    "tiri = 0\n",
    "ones,twos,threes,fours,fives,sixes,tris,poker,full,ps,gs,k=0,0,0,0,0,0,0,0,0,0,0,0\n",
    "while k < 100:\n",
    "    tiri += 1\n",
    "    giacomo.tiraDadi()\n",
    "    a=giacomo.getValoreTiro()\n",
    "    if prt.checkTrisPoker(giacomo,5):\n",
    "        k+=1\n",
    "    if checkFull(a):\n",
    "        full += 1\n",
    "    if checkScala(a,5):\n",
    "        gs +=1\n",
    "    if checkScala(a):\n",
    "        ps +=1\n",
    "    if prt.checkTrisPoker(giacomo,3):\n",
    "        tris+=1\n",
    "    if prt.checkTrisPoker(giacomo,4):\n",
    "        poker+=1\n",
    "    if a.count(1)>=3:\n",
    "        ones+=1\n",
    "    elif a.count(2)>=3:\n",
    "        twos+=1\n",
    "    elif a.count(3)>=3:\n",
    "        threes+=1\n",
    "    elif a.count(4)>=3:\n",
    "        fours+=1\n",
    "    elif a.count(5)>=3:\n",
    "        fives+=1\n",
    "    elif a.count(6)>=3:\n",
    "        sixes+=1\n",
    "print tiri"
   ]
  },
  {
   "cell_type": "code",
   "execution_count": 61,
   "metadata": {
    "collapsed": false
   },
   "outputs": [
    {
     "name": "stdout",
     "output_type": "stream",
     "text": [
      "4712 4752 4721 4698 4528 4726 28137 2614 5063 20400 4069 100\n"
     ]
    }
   ],
   "source": [
    "print ones,twos,threes,fours,fives,sixes,tris,poker,full,ps,gs,k"
   ]
  },
  {
   "cell_type": "code",
   "execution_count": 20,
   "metadata": {
    "collapsed": false
   },
   "outputs": [
    {
     "data": {
      "text/plain": [
       "True"
      ]
     },
     "execution_count": 20,
     "metadata": {},
     "output_type": "execute_result"
    }
   ],
   "source": [
    "prt.checkTrisPoker(giacomo, 4)"
   ]
  },
  {
   "cell_type": "code",
   "execution_count": 56,
   "metadata": {
    "collapsed": true
   },
   "outputs": [],
   "source": [
    "giacomo.tiraDadi()"
   ]
  },
  {
   "cell_type": "code",
   "execution_count": 23,
   "metadata": {
    "collapsed": false
   },
   "outputs": [],
   "source": [
    "a.sort()"
   ]
  },
  {
   "cell_type": "code",
   "execution_count": 43,
   "metadata": {
    "collapsed": false
   },
   "outputs": [],
   "source": [
    "ps=[[1,2,3,4,6],[2,3,4,5,3],[3,4,5,6,1]]\n",
    "ls=[[1,2,3,4,5],[2,3,4,5,6]]"
   ]
  },
  {
   "cell_type": "code",
   "execution_count": 47,
   "metadata": {
    "collapsed": false
   },
   "outputs": [],
   "source": [
    "def f7(seq):\n",
    "    seen = set()\n",
    "    seen_add = seen.add\n",
    "    return [x for x in seq if not (x in seen or seen_add(x))]\n",
    "\n",
    "def checkScala(a,n=4):\n",
    "    b = f7(sorted(a))\n",
    "    if len(b) < n:\n",
    "        return False\n",
    "    if n==5:\n",
    "        for i in range(1,5):\n",
    "            if b[i]-b[i-1] != 1:\n",
    "                return False\n",
    "        return True\n",
    "    else:\n",
    "        fila = True\n",
    "        for i in range(1,4):\n",
    "            if b[i]-b[i-1] != 1:\n",
    "                fila = False\n",
    "        if fila:\n",
    "            return True\n",
    "        if len(b) < 5:\n",
    "            return False\n",
    "        fila = True\n",
    "        for i in range(2,5):\n",
    "            if b[i]-b[i-1] != 1:\n",
    "                fila = False\n",
    "        if fila:\n",
    "            return True\n",
    "        return False\n",
    "                \n",
    "        \n",
    "        "
   ]
  },
  {
   "cell_type": "code",
   "execution_count": 45,
   "metadata": {
    "collapsed": false
   },
   "outputs": [
    {
     "name": "stdout",
     "output_type": "stream",
     "text": [
      "[1, 2, 3, 4, 6] True\n",
      "[2, 3, 4, 5, 3] True\n",
      "[3, 4, 5, 6, 1] True\n",
      "[1, 2, 3, 4, 5] True\n",
      "[2, 3, 4, 5, 6] True\n"
     ]
    }
   ],
   "source": [
    "for a in ps:\n",
    "    print a, checkScala(a)\n",
    "for a in ls:\n",
    "    print a, checkScala(a,5)"
   ]
  },
  {
   "cell_type": "code",
   "execution_count": 49,
   "metadata": {
    "collapsed": true
   },
   "outputs": [],
   "source": [
    "def checkFull(a):\n",
    "    coppia = False\n",
    "    tris = False\n",
    "    for n in range(1,7):\n",
    "        if a.count(n) == 3:\n",
    "            tris = n\n",
    "        elif a.count(n) == 2:\n",
    "            coppia = n\n",
    "    return coppia and tris\n",
    "        "
   ]
  },
  {
   "cell_type": "code",
   "execution_count": null,
   "metadata": {
    "collapsed": true
   },
   "outputs": [],
   "source": []
  }
 ],
 "metadata": {
  "kernelspec": {
   "display_name": "Python 2",
   "language": "python",
   "name": "python2"
  },
  "language_info": {
   "codemirror_mode": {
    "name": "ipython",
    "version": 2
   },
   "file_extension": ".py",
   "mimetype": "text/x-python",
   "name": "python",
   "nbconvert_exporter": "python",
   "pygments_lexer": "ipython2",
   "version": "2.7.10"
  }
 },
 "nbformat": 4,
 "nbformat_minor": 0
}
